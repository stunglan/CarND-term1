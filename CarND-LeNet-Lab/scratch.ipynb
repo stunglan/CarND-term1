{
 "cells": [
  {
   "cell_type": "code",
   "execution_count": 1,
   "metadata": {
    "collapsed": true
   },
   "outputs": [],
   "source": [
    "    input_widht = 32\n",
    "    input_heigth = 32\n",
    "    new_widht = 28\n",
    "    new_heigth = 28\n",
    "    \n",
    "    \n",
    "    filter_width = input_widht - new_widht + 1 # S = 1\n",
    "    filter_heigth = input_heigth - new_heigth + 1"
   ]
  },
  {
   "cell_type": "code",
   "execution_count": 2,
   "metadata": {
    "collapsed": false
   },
   "outputs": [
    {
     "data": {
      "text/plain": [
       "5"
      ]
     },
     "execution_count": 2,
     "metadata": {},
     "output_type": "execute_result"
    }
   ],
   "source": [
    "filter_heigth"
   ]
  },
  {
   "cell_type": "code",
   "execution_count": 10,
   "metadata": {
    "collapsed": false
   },
   "outputs": [
    {
     "data": {
      "text/plain": [
       "14"
      ]
     },
     "execution_count": 10,
     "metadata": {},
     "output_type": "execute_result"
    }
   ],
   "source": [
    "import math\n",
    "in_height = 28\n",
    "filter_height = 2\n",
    "strides = 2\n",
    "\n",
    "out_height = math.ceil(float(in_height - filter_height + 1) / float(strides))\n",
    "out_height\n"
   ]
  },
  {
   "cell_type": "code",
   "execution_count": 12,
   "metadata": {
    "collapsed": false
   },
   "outputs": [
    {
     "data": {
      "text/plain": [
       "2048"
      ]
     },
     "execution_count": 12,
     "metadata": {},
     "output_type": "execute_result"
    }
   ],
   "source": [
    "4*4*128"
   ]
  },
  {
   "cell_type": "code",
   "execution_count": null,
   "metadata": {
    "collapsed": true
   },
   "outputs": [],
   "source": [
    "x= tf.reshape(x,[-1, weights['fully_connected'].get_shape().as_list()[0]])\n",
    "x = tf.add(tf.matmul(fc1, weights['fully_connected']),biases['fully_connected'])\n",
    "    fc1 = tf.nn.tanh(fc1)"
   ]
  },
  {
   "cell_type": "code",
   "execution_count": 14,
   "metadata": {
    "collapsed": false
   },
   "outputs": [],
   "source": [
    "def simple_gen():\n",
    "    yield 1\n",
    "    yield 2\n",
    "    yield 3\n",
    "    \n"
   ]
  },
  {
   "cell_type": "code",
   "execution_count": 15,
   "metadata": {
    "collapsed": false
   },
   "outputs": [
    {
     "data": {
      "text/plain": [
       "<generator object simple_gen at 0x106c1da40>"
      ]
     },
     "execution_count": 15,
     "metadata": {},
     "output_type": "execute_result"
    }
   ],
   "source": [
    "simple_gen()"
   ]
  },
  {
   "cell_type": "code",
   "execution_count": 17,
   "metadata": {
    "collapsed": false
   },
   "outputs": [],
   "source": [
    "our_generator = simple_gen()\n"
   ]
  },
  {
   "cell_type": "code",
   "execution_count": 21,
   "metadata": {
    "collapsed": false
   },
   "outputs": [
    {
     "ename": "StopIteration",
     "evalue": "",
     "output_type": "error",
     "traceback": [
      "\u001b[0;31m---------------------------------------------------------------------------\u001b[0m",
      "\u001b[0;31mStopIteration\u001b[0m                             Traceback (most recent call last)",
      "\u001b[0;32m<ipython-input-21-7e48a609051a>\u001b[0m in \u001b[0;36m<module>\u001b[0;34m()\u001b[0m\n\u001b[0;32m----> 1\u001b[0;31m \u001b[0mnext\u001b[0m\u001b[0;34m(\u001b[0m\u001b[0mour_generator\u001b[0m\u001b[0;34m)\u001b[0m\u001b[0;34m\u001b[0m\u001b[0m\n\u001b[0m",
      "\u001b[0;31mStopIteration\u001b[0m: "
     ]
    }
   ],
   "source": [
    "next(our_generator)"
   ]
  },
  {
   "cell_type": "code",
   "execution_count": 23,
   "metadata": {
    "collapsed": false
   },
   "outputs": [
    {
     "name": "stdout",
     "output_type": "stream",
     "text": [
      "1\n",
      "2\n",
      "3\n"
     ]
    }
   ],
   "source": [
    "for i in simple_gen():\n",
    "    print(i)"
   ]
  },
  {
   "cell_type": "code",
   "execution_count": 26,
   "metadata": {
    "collapsed": false
   },
   "outputs": [
    {
     "name": "stdout",
     "output_type": "stream",
     "text": [
      "Producing...\n",
      "Produced [4, 6, 9]\n",
      "running sum  19\n",
      "The running average is 6.333333333333333\n",
      "Producing...\n",
      "Produced [5, 0, 9]\n",
      "running sum  33\n",
      "The running average is 5.5\n",
      "Producing...\n",
      "Produced [5, 9, 2]\n",
      "running sum  49\n",
      "The running average is 5.444444444444445\n",
      "Producing...\n",
      "Produced [5, 1, 8]\n",
      "running sum  63\n",
      "The running average is 5.25\n",
      "Producing...\n",
      "Produced [1, 4, 2]\n",
      "running sum  70\n",
      "The running average is 4.666666666666667\n",
      "Producing...\n",
      "Produced [2, 5, 1]\n",
      "running sum  78\n",
      "The running average is 4.333333333333333\n",
      "Producing...\n",
      "Produced [8, 3, 2]\n",
      "running sum  91\n",
      "The running average is 4.333333333333333\n",
      "Producing...\n",
      "Produced [4, 5, 2]\n",
      "running sum  102\n",
      "The running average is 4.25\n",
      "Producing...\n",
      "Produced [3, 8, 2]\n",
      "running sum  115\n",
      "The running average is 4.2592592592592595\n",
      "Producing...\n",
      "Produced [6, 3, 1]\n",
      "running sum  125\n",
      "The running average is 4.166666666666667\n"
     ]
    }
   ],
   "source": [
    "import random\n",
    "\n",
    "def get_data():\n",
    "    \"\"\"Return 3 random integers between 0 and 9\"\"\"\n",
    "    return random.sample(range(10), 3)\n",
    "\n",
    "def consume():\n",
    "    \"\"\"Displays a running average across lists of integers sent to it\"\"\"\n",
    "    running_sum = 0\n",
    "    data_items_seen = 0\n",
    "\n",
    "    while True:\n",
    "        data = yield\n",
    "        \n",
    "        data_items_seen += len(data)\n",
    "        running_sum += sum(data)\n",
    "        print('running sum ',running_sum)\n",
    "        print('The running average is {}'.format(running_sum / float(data_items_seen)))\n",
    "\n",
    "def produce(consumer):\n",
    "    \"\"\"Produces a set of values and forwards them to the pre-defined consumer\n",
    "    function\"\"\"\n",
    "    while True:\n",
    "        data = get_data()\n",
    "        print('Produced {}'.format(data))\n",
    "        consumer.send(data)\n",
    "        yield\n",
    "\n",
    "if __name__ == '__main__':\n",
    "    consumer = consume()\n",
    "    consumer.send(None)\n",
    "    producer = produce(consumer)\n",
    "\n",
    "    for _ in range(10):\n",
    "        print('Producing...')\n",
    "        next(producer)"
   ]
  },
  {
   "cell_type": "code",
   "execution_count": null,
   "metadata": {
    "collapsed": true
   },
   "outputs": [],
   "source": []
  },
  {
   "cell_type": "code",
   "execution_count": null,
   "metadata": {
    "collapsed": true
   },
   "outputs": [],
   "source": []
  }
 ],
 "metadata": {
  "anaconda-cloud": {},
  "kernelspec": {
   "display_name": "Python [conda env:CarND-LeNet-Lab]",
   "language": "python",
   "name": "conda-env-CarND-LeNet-Lab-py"
  },
  "language_info": {
   "codemirror_mode": {
    "name": "ipython",
    "version": 3
   },
   "file_extension": ".py",
   "mimetype": "text/x-python",
   "name": "python",
   "nbconvert_exporter": "python",
   "pygments_lexer": "ipython3",
   "version": "3.5.2"
  }
 },
 "nbformat": 4,
 "nbformat_minor": 2
}
